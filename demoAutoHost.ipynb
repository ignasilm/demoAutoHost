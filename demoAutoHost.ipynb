{
 "cells": [
  {
   "cell_type": "markdown",
   "metadata": {},
   "source": [
    "## Notebook Jupyter Demo de automatización de interacción con HOST/MVS\n",
    "---\n",
    "\n",
    "Esta demo es para mostrar que posibilidades hay para interactuar con un sistema HOST MVS con un código python. Para ello se utiliza la librería [py3270](https://github.com/py3270/py3270) y el emulador [x3270](http://x3270.bgp.nu/)\n"
   ]
  },
  {
   "cell_type": "markdown",
   "metadata": {},
   "source": [
    "Lo primero será importar la libreria py3270"
   ]
  },
  {
   "cell_type": "code",
   "execution_count": 1,
   "metadata": {},
   "outputs": [],
   "source": [
    "import time, sys\n",
    "from py3270 import Emulator\n"
   ]
  },
  {
   "cell_type": "markdown",
   "metadata": {},
   "source": [
    "Iniciamos un objeto Emulador y conectamos al servidor. Al crear el objeto se puede indicar si queremos que sea visible la pantalla del emulador o que funcione sin mostrarla."
   ]
  },
  {
   "cell_type": "code",
   "execution_count": 3,
   "metadata": {},
   "outputs": [],
   "source": [
    "myhost = '127.0.0.1:3270'\n",
    "\n",
    "my3270 = Emulator(visible=True)\n",
    "my3270.connect(myhost)"
   ]
  },
  {
   "cell_type": "markdown",
   "metadata": {},
   "source": [
    "Realizamos el login. \n",
    "1. Para ello nos aseguramos que la pantalla se ha cargado completamente\n",
    "2. Comprobamos que estamos en la pantalla de 'Logon'\n",
    "3. Informamos el usuario y enviamos enter\n"
   ]
  },
  {
   "cell_type": "code",
   "execution_count": 4,
   "metadata": {},
   "outputs": [],
   "source": [
    "delayt = 1    # segundos de espera para asegurarnos que la pantalla se carga correctamente\n",
    "mylogin = 'HERC01'\n",
    "mypass = 'CUL8TR'\n",
    "\n",
    "my3270.wait_for_field()\n",
    "my3270.exec_command(b\"Clear\")\n",
    "my3270.wait_for_field()\n",
    "time.sleep(delayt)\n",
    "if not my3270.string_found(23, 1, 'Logon ===>'):\n",
    "\tsys.exit('Error: print(my3270.string_get(23,1,20))')\n",
    "my3270.send_string(mylogin)\n",
    "my3270.send_enter()"
   ]
  },
  {
   "cell_type": "markdown",
   "metadata": {},
   "source": [
    "A continuacion, informamos el password y mandamos enter"
   ]
  },
  {
   "cell_type": "code",
   "execution_count": 5,
   "metadata": {},
   "outputs": [],
   "source": [
    "my3270.wait_for_field()\n",
    "time.sleep(delayt)\n",
    "if not my3270.string_found(1, 2, 'ENTER CURRENT'):\n",
    "\tsys.exit('Error: print(my3270.string_get(1, 2,20))')\n",
    "my3270.send_string(mypass)\n",
    "my3270.send_enter()\n",
    "my3270.wait_for_field()\n",
    "time.sleep(delayt)"
   ]
  },
  {
   "cell_type": "markdown",
   "metadata": {},
   "source": [
    "Mandamos varios enter para saltar las siguientes pantallas hasta llegar al menu de aplicaciones"
   ]
  },
  {
   "cell_type": "code",
   "execution_count": 6,
   "metadata": {},
   "outputs": [],
   "source": [
    "for i in range(3):\n",
    "    my3270.send_enter()\n",
    "    my3270.wait_for_field()\n",
    "    time.sleep(delayt)"
   ]
  },
  {
   "cell_type": "markdown",
   "metadata": {},
   "source": [
    "Seleccionamos la opción del menu para modificar un fichero"
   ]
  },
  {
   "cell_type": "code",
   "execution_count": 7,
   "metadata": {},
   "outputs": [],
   "source": [
    "# 2 - EDIT\n",
    "my3270.send_string(\"2\")\n",
    "my3270.send_enter()\n",
    "my3270.wait_for_field()\n",
    "time.sleep(delayt)"
   ]
  },
  {
   "cell_type": "markdown",
   "metadata": {},
   "source": [
    "Informamos el formulario de busqueda de ficheros con los datos del fichero que queremos actualizar "
   ]
  },
  {
   "cell_type": "code",
   "execution_count": 9,
   "metadata": {},
   "outputs": [],
   "source": [
    "my3270.fill_field(6,18,'HERC01', 8)\n",
    "my3270.fill_field(7,18,'AUTOM', 8)\n",
    "my3270.fill_field(8,18,'DEMO', 8)\n",
    "my3270.move_to(12,24)\n",
    "my3270.delete_field()"
   ]
  },
  {
   "cell_type": "markdown",
   "metadata": {},
   "source": [
    "Ejecutamos la busqueda del fichero"
   ]
  },
  {
   "cell_type": "code",
   "execution_count": 10,
   "metadata": {},
   "outputs": [],
   "source": [
    "my3270.send_enter()\n",
    "my3270.wait_for_field()\n",
    "time.sleep(delayt)"
   ]
  },
  {
   "cell_type": "markdown",
   "metadata": {},
   "source": [
    "Editamos el primer fichero de la lista"
   ]
  },
  {
   "cell_type": "code",
   "execution_count": 12,
   "metadata": {},
   "outputs": [],
   "source": [
    "my3270.exec_command(b\"TAB\")\n",
    "my3270.exec_command(b\"TAB\")\n",
    "my3270.send_string(\"E\")\n",
    "my3270.send_enter()\n",
    "my3270.wait_for_field()\n",
    "time.sleep(delayt)"
   ]
  },
  {
   "cell_type": "markdown",
   "metadata": {},
   "source": [
    "Borramos todo el contenido..."
   ]
  },
  {
   "cell_type": "code",
   "execution_count": 13,
   "metadata": {},
   "outputs": [],
   "source": [
    "my3270.send_string(\"TOP\")\n",
    "my3270.send_enter()\n",
    "my3270.wait_for_field()\n",
    "time.sleep(delayt)\n",
    "my3270.exec_command(b\"TAB\")\n",
    "my3270.exec_command(b\"TAB\")\n",
    "my3270.exec_command(b\"TAB\")\n",
    "my3270.send_string(\"D999\")\n",
    "my3270.send_enter()\n",
    "my3270.wait_for_field()\n",
    "time.sleep(delayt)\n"
   ]
  },
  {
   "cell_type": "markdown",
   "metadata": {},
   "source": [
    "...e insertamos las nuevas lineas"
   ]
  },
  {
   "cell_type": "code",
   "execution_count": 14,
   "metadata": {},
   "outputs": [],
   "source": [
    "my3270.exec_command(b\"TAB\")\n",
    "my3270.exec_command(b\"TAB\")\n",
    "my3270.send_string(\"i\")\n",
    "my3270.send_enter()\n",
    "my3270.wait_for_field()\n",
    "time.sleep(delayt)\n",
    "\n",
    "for i in range(10):\n",
    "    my3270.send_string(\"Este es el texto que insertamos en esta linea \")\n",
    "    my3270.send_string(str(i))\n",
    "    my3270.send_enter()\n",
    "    my3270.wait_for_field()\n",
    "    time.sleep(delayt)"
   ]
  },
  {
   "cell_type": "markdown",
   "metadata": {},
   "source": [
    "Salimos al menú principal pulsando PF3 varias veces"
   ]
  },
  {
   "cell_type": "code",
   "execution_count": 19,
   "metadata": {},
   "outputs": [],
   "source": [
    "for i in range(3):\n",
    "    my3270.send_pf3()\n",
    "    my3270.wait_for_field()\n",
    "    time.sleep(delayt)"
   ]
  },
  {
   "cell_type": "markdown",
   "metadata": {},
   "source": [
    "Como demostración de que es posible leer directamente de pantalla y esperar a que se actualize algún dato, como la ejecucion correcta de algun proceso, vamos a recuperar la hora de pantalla y esperamos a que pase 1 minuto refrescando cada 10 segundos."
   ]
  },
  {
   "cell_type": "code",
   "execution_count": 25,
   "metadata": {},
   "outputs": [
    {
     "name": "stdout",
     "output_type": "stream",
     "text": [
      "En el intento 1 la hora actual es  18:39 y la hora inicial era 18:39\n",
      "En el intento 2 la hora actual es  18:39 y la hora inicial era 18:39\n",
      "En el intento 3 la hora actual es  18:39 y la hora inicial era 18:39\n",
      "En el intento 4 la hora actual es  18:40 y la hora inicial era 18:39\n"
     ]
    }
   ],
   "source": [
    "hora_inicial = my3270.string_get(12,70,5)\n",
    "hora_actual = hora_inicial\n",
    "intentos = 1\n",
    "while hora_actual == hora_inicial and intentos <= 6:\n",
    "    time.sleep(10)\n",
    "    my3270.send_enter()\n",
    "    my3270.wait_for_field()\n",
    "    time.sleep(delayt)\n",
    "    hora_actual = my3270.string_get(12,70,5)\n",
    "    print('En el intento', intentos, 'la hora actual es', hora_actual, 'y la hora inicial era', hora_inicial)\n",
    "    intentos = intentos + 1\n",
    "\n"
   ]
  },
  {
   "cell_type": "markdown",
   "metadata": {},
   "source": [
    "Finalmente, terminamos la sesion y cerramos la conexion."
   ]
  },
  {
   "cell_type": "code",
   "execution_count": 26,
   "metadata": {},
   "outputs": [],
   "source": [
    "my3270.send_pf3()\n",
    "my3270.wait_for_field()\n",
    "time.sleep(delayt)\n",
    "if not my3270.string_found(5, 2, 'READY'):\n",
    "    my3270.send_pf3()\n",
    "    my3270.wait_for_field()\n",
    "    time.sleep(delayt)\n",
    "    if not my3270.string_found(5, 2, 'READY'):\n",
    "        my3270.send_pf3()\n",
    "        my3270.wait_for_field()\n",
    "        time.sleep(delayt)\n",
    "\n",
    "my3270.send_string('LOGOFF')\n",
    "my3270.send_enter()\n",
    "my3270.wait_for_field()\n",
    "time.sleep(delayt)\n",
    "# Desconectamos y cerramos el emulador\n",
    "my3270.terminate()"
   ]
  }
 ],
 "metadata": {
  "interpreter": {
   "hash": "048b73a1d3995d2f1ee3d927821048e8864bd7f657672a435fa2fe085ffe30cb"
  },
  "kernelspec": {
   "display_name": "Python 3.8.2 ('env': venv)",
   "language": "python",
   "name": "python3"
  },
  "language_info": {
   "codemirror_mode": {
    "name": "ipython",
    "version": 3
   },
   "file_extension": ".py",
   "mimetype": "text/x-python",
   "name": "python",
   "nbconvert_exporter": "python",
   "pygments_lexer": "ipython3",
   "version": "3.8.2"
  },
  "orig_nbformat": 4
 },
 "nbformat": 4,
 "nbformat_minor": 2
}
